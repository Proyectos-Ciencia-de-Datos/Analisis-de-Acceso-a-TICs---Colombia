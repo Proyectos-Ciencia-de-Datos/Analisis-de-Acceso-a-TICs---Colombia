{
 "cells": [
  {
   "cell_type": "markdown",
   "id": "c7019570",
   "metadata": {},
   "source": [
    "# Importaciones"
   ]
  },
  {
   "cell_type": "code",
   "execution_count": 1,
   "id": "20374ac2",
   "metadata": {},
   "outputs": [],
   "source": [
    "import pandas as pd\n",
    "import numpy as np"
   ]
  },
  {
   "cell_type": "markdown",
   "id": "fae3d46b",
   "metadata": {},
   "source": [
    "# Carga de Datos"
   ]
  },
  {
   "cell_type": "code",
   "execution_count": 2,
   "id": "62718f16",
   "metadata": {},
   "outputs": [],
   "source": [
    "tecnologia = pd.read_csv(\"Tenencia, acceso y uso de los bienes y servicios TIC por sede educativa.CSV\")\n",
    "caratula = pd.read_csv(\"Carátula Limpia.CSV\", encoding = \"latin1\", sep = \";\")"
   ]
  },
  {
   "cell_type": "markdown",
   "id": "e0bbcd08",
   "metadata": {},
   "source": [
    "Se verifican los tamaños"
   ]
  },
  {
   "cell_type": "code",
   "execution_count": 3,
   "id": "73a99130",
   "metadata": {},
   "outputs": [
    {
     "name": "stdout",
     "output_type": "stream",
     "text": [
      "Tecnología: (53148, 29)\n",
      "Carátula: (56269, 10)\n"
     ]
    }
   ],
   "source": [
    "print(f\"Tecnología: {tecnologia.shape}\")\n",
    "print(f\"Carátula: {caratula.shape}\")"
   ]
  },
  {
   "cell_type": "markdown",
   "id": "3710c527",
   "metadata": {},
   "source": [
    "De esta forma, se decide unir Tecnología a Carátula a partir del índice"
   ]
  },
  {
   "cell_type": "code",
   "execution_count": 4,
   "id": "3d33cc13",
   "metadata": {},
   "outputs": [
    {
     "name": "stdout",
     "output_type": "stream",
     "text": [
      "SEDE_CODIGO\n",
      "SEDE_COD\n"
     ]
    }
   ],
   "source": [
    "print(tecnologia.columns[0])\n",
    "print(caratula.columns[0])"
   ]
  },
  {
   "cell_type": "code",
   "execution_count": 8,
   "id": "8f9438c0",
   "metadata": {},
   "outputs": [],
   "source": [
    "caratula.rename(columns={\"SEDE_COD\":\"SEDE_CODIGO\"},inplace=True)"
   ]
  },
  {
   "cell_type": "markdown",
   "id": "aafa31ec",
   "metadata": {},
   "source": [
    "# Unión de los dataset"
   ]
  },
  {
   "cell_type": "code",
   "execution_count": 9,
   "id": "52914349",
   "metadata": {},
   "outputs": [],
   "source": [
    "union = pd.merge(caratula,tecnologia,on=\"SEDE_CODIGO\",how = \"left\")"
   ]
  },
  {
   "cell_type": "markdown",
   "id": "f37ae86a",
   "metadata": {},
   "source": [
    "Ahora se filtran las columnas que no servirían para el análisis"
   ]
  },
  {
   "cell_type": "code",
   "execution_count": 11,
   "id": "f221e92d",
   "metadata": {},
   "outputs": [],
   "source": [
    "union.drop(columns=['PERIODO_ID', 'PERIODO_ANIO', 'SEDETE_ELECTRICIDAD','SEDETE_TELEVISION', 'TIENETELEVISION',\n",
    "                    'SEDETE_LINEA_TEL', 'TIENELINEATELEFONICA', 'SEDETE_CANTIDAD_LINEA_TEL',\n",
    "                    'SEDETE_RADIO', 'TIENERADIO', 'SEDETE_LAN', 'TIENELAN','SEDETE_INTERNET',\n",
    "                    'SEDETE_AULAS_INFOR','SEDETE_EQUIPO_COMPUTO','SEDETE_SERVICIO_EXTERNO', 'TIENESERVICIOEXTERNO', 'SEDETE_FINES_EDUC',\n",
    "                    'SEDETE_SERVICIO_EXTERNO', 'TIENESERVICIOEXTERNO', 'SEDETE_FINES_EDUC','SEDETE_PLAN_TIC',\n",
    "                    'FINESEDUCATIVOS', 'SEDETE_ACTIVIDAD_COMUNIDAD', 'ACTIVIDADCOMUNIDAD'],inplace=True)"
   ]
  },
  {
   "cell_type": "code",
   "execution_count": 12,
   "id": "d5b0caf0",
   "metadata": {},
   "outputs": [
    {
     "name": "stdout",
     "output_type": "stream",
     "text": [
      "<class 'pandas.core.frame.DataFrame'>\n",
      "RangeIndex: 56269 entries, 0 to 56268\n",
      "Data columns (total 16 columns):\n",
      " #   Column                 Non-Null Count  Dtype  \n",
      "---  ------                 --------------  -----  \n",
      " 0   SEDE_CODIGO            56269 non-null  int64  \n",
      " 1   CODIGOINTERNODEPTO     56268 non-null  float64\n",
      " 2   DEPTO                  56268 non-null  object \n",
      " 3   CODIGOINTERNOMUNI      56268 non-null  float64\n",
      " 4   MUNI                   56268 non-null  object \n",
      " 5   AREA_NOMBRE            56268 non-null  object \n",
      " 6   SECTOR_NOMBRE          56269 non-null  object \n",
      " 7   ES_BILINGUE            53157 non-null  object \n",
      " 8   Unnamed: 8             1 non-null      float64\n",
      " 9   Unnamed: 9             1 non-null      object \n",
      " 10  TIENEELECTRICIDAD      53148 non-null  object \n",
      " 11  TIENEINTERNET          53148 non-null  object \n",
      " 12  TIENEAULASINFORMATICA  42373 non-null  object \n",
      " 13  SEDETE_CANTIDAD_AULAS  42360 non-null  float64\n",
      " 14  TIENEEQUIPOCOMPUTO     53148 non-null  object \n",
      " 15  PLANTIC                53148 non-null  object \n",
      "dtypes: float64(4), int64(1), object(11)\n",
      "memory usage: 6.9+ MB\n"
     ]
    }
   ],
   "source": [
    "union.info()"
   ]
  },
  {
   "cell_type": "code",
   "execution_count": 13,
   "id": "b5603a2d",
   "metadata": {},
   "outputs": [],
   "source": [
    "union.to_csv(\"educacion_para_mapa.csv\", sep=\";\")"
   ]
  },
  {
   "cell_type": "code",
   "execution_count": null,
   "id": "022b8e6f",
   "metadata": {},
   "outputs": [],
   "source": []
  }
 ],
 "metadata": {
  "kernelspec": {
   "display_name": "ML1",
   "language": "python",
   "name": "python3"
  },
  "language_info": {
   "codemirror_mode": {
    "name": "ipython",
    "version": 3
   },
   "file_extension": ".py",
   "mimetype": "text/x-python",
   "name": "python",
   "nbconvert_exporter": "python",
   "pygments_lexer": "ipython3",
   "version": "3.12.4"
  }
 },
 "nbformat": 4,
 "nbformat_minor": 5
}
